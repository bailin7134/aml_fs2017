{
 "cells": [
  {
   "cell_type": "markdown",
   "metadata": {},
   "source": [
    "### Create a matrix"
   ]
  },
  {
   "cell_type": "code",
   "execution_count": 6,
   "metadata": {
    "collapsed": false
   },
   "outputs": [
    {
     "data": {
      "text/plain": [
       "(1,.,.) = \n",
       "   2.7350e-52  5.0116e+217\n",
       "  8.3717e-144   7.7985e-71\n",
       "\n",
       "(2,.,.) = \n",
       "   3.8859e-33   6.8126e-91\n",
       "  1.0589e+165  3.9706e+246\n",
       "[torch.DoubleTensor of size 2x2x2]\n",
       "\n"
      ]
     },
     "execution_count": 6,
     "metadata": {},
     "output_type": "execute_result"
    }
   ],
   "source": [
    "mat = torch.Tensor(2,2,2) --create multi dimensional matrix, random numbers\n",
    "print(mat)"
   ]
  },
  {
   "cell_type": "code",
   "execution_count": 9,
   "metadata": {
    "collapsed": false
   },
   "outputs": [
    {
     "data": {
      "text/plain": [
       " 1  1  1\n",
       " 1  1  1\n",
       "[torch.DoubleTensor of size 2x3]\n",
       "\n"
      ]
     },
     "execution_count": 9,
     "metadata": {},
     "output_type": "execute_result"
    }
   ],
   "source": [
    "mat = torch.Tensor(2,3):fill(1) -- 2x3 matrix, filled by 1\n",
    "print(mat)"
   ]
  },
  {
   "cell_type": "code",
   "execution_count": 10,
   "metadata": {
    "collapsed": false
   },
   "outputs": [
    {
     "data": {
      "text/plain": [
       " 3.8720e+228  6.7702e+223  1.7530e+243\n",
       " 5.4237e-109  2.0265e+267   1.1632e-28\n",
       " 1.4776e+248  1.7888e+161  2.7823e+296\n",
       "[torch.DoubleTensor of size 3x3]\n",
       "\n"
      ]
     },
     "execution_count": 10,
     "metadata": {},
     "output_type": "execute_result"
    }
   ],
   "source": [
    "mat = torch.Tensor(3,3) -- matrix 3x3, random assignment\n",
    "print(mat)"
   ]
  },
  {
   "cell_type": "code",
   "execution_count": 11,
   "metadata": {
    "collapsed": false,
    "scrolled": true
   },
   "outputs": [
    {
     "data": {
      "text/plain": [
       " 0  0  0\n",
       " 0  0  0\n",
       " 0  0  0\n",
       "[torch.DoubleTensor of size 3x3]\n",
       "\n"
      ]
     },
     "execution_count": 11,
     "metadata": {},
     "output_type": "execute_result"
    }
   ],
   "source": [
    "mat = torch.zeros(3,3)\n",
    "print(mat)"
   ]
  },
  {
   "cell_type": "markdown",
   "metadata": {},
   "source": [
    "### Content of matrix"
   ]
  },
  {
   "cell_type": "code",
   "execution_count": 24,
   "metadata": {
    "collapsed": false
   },
   "outputs": [
    {
     "data": {
      "text/plain": [
       "number of dimension of matrix is: \t2\t\n",
       "siez of matrix is: \t 3\n",
       " 3\n",
       "[torch.LongStorage of size 2]\n",
       "\n",
       "number of elements of matrix is: \t9\t\n"
      ]
     },
     "execution_count": 24,
     "metadata": {},
     "output_type": "execute_result"
    }
   ],
   "source": [
    "mat = torch.Tensor(3,3)\n",
    "x = mat:nDimension()\n",
    "print(\"number of dimension of matrix is: \", x)\n",
    "y = mat:size()\n",
    "print(\"siez of matrix is: \", y)\n",
    "z = mat:nElement()\n",
    "print(\"number of elements of matrix is: \", z)"
   ]
  },
  {
   "cell_type": "code",
   "execution_count": 27,
   "metadata": {
    "collapsed": false
   },
   "outputs": [
    {
     "data": {
      "text/plain": [
       "original matrix\t\n",
       " 3.8386e-317  3.1620e-322   0.0000e+00   0.0000e+00\n",
       "  0.0000e+00  4.0512e+174   5.4402e-62   9.1822e-72\n",
       " 2.0393e+160   8.6954e-43  9.5107e+169   8.0354e-42\n",
       "[torch.DoubleTensor of size 3x4]\n",
       "\n",
       "selected matrix\t\n",
       "  0.0000e+00\n",
       " 4.0512e+174\n",
       "  5.4402e-62\n",
       "  9.1822e-72\n",
       "[torch.DoubleTensor of size 4]\n",
       "\n",
       "narrowed matrix\t\n",
       " 3.8386e-317  3.1620e-322\n",
       "  0.0000e+00  4.0512e+174\n",
       " 2.0393e+160   8.6954e-43\n",
       "[torch.DoubleTensor of size 3x2]\n",
       "\n"
      ]
     },
     "execution_count": 27,
     "metadata": {},
     "output_type": "execute_result"
    }
   ],
   "source": [
    "mat = torch.Tensor(3,4)\n",
    "sel = mat:select(1,2)\n",
    "print(\"original matrix\")\n",
    "print(mat)\n",
    "print(\"selected matrix\")\n",
    "print(sel)\n",
    "nar = mat:narrow(2,1,2)\n",
    "print(\"narrowed matrix\")\n",
    "print(nar)"
   ]
  },
  {
   "cell_type": "code",
   "execution_count": null,
   "metadata": {
    "collapsed": true
   },
   "outputs": [],
   "source": []
  }
 ],
 "metadata": {
  "kernelspec": {
   "display_name": "iTorch",
   "language": "lua",
   "name": "itorch"
  },
  "language_info": {
   "name": "lua",
   "version": "5.1"
  }
 },
 "nbformat": 4,
 "nbformat_minor": 2
}
