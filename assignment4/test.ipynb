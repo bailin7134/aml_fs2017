{
 "cells": [
  {
   "cell_type": "code",
   "execution_count": 2,
   "metadata": {
    "collapsed": true
   },
   "outputs": [],
   "source": [
    "require 'nngraph'\n",
    "require 'torch'\n",
    "require 'nn'   \n",
    "require 'optim'"
   ]
  },
  {
   "cell_type": "code",
   "execution_count": 3,
   "metadata": {
    "collapsed": true
   },
   "outputs": [],
   "source": [
    "label1 = torch.rand(1,3,64,64)\n",
    "label2 = torch.rand(1,3,64,64)\n",
    "-- TODO\n",
    "function createResBlock()\n",
    "\tlocal resBlock = nn.Sequential()\n",
    "\t-- TODO implement resblock in this function\n",
    "\t-- do not implement this separately\n",
    "    return resBlock\n",
    "end\n",
    "model = nn.ParallelTable()\n",
    "L1Net = nn.Sequential()\n",
    "L2Net = nn.Sequential()\n",
    "conv1 = nn.Sequential()\n",
    "conv4 = nn.Sequential()\n",
    "-- Define conv1 and conv4 layers\n",
    "conv1:add(nn.SpatialConvolution(3, 32, 3, 3,1,1,1,1))\n",
    "conv4:add(nn.SpatialConvolution(32, 3, 3, 3,1,1,1,1))"
   ]
  },
  {
   "cell_type": "code",
   "execution_count": 4,
   "metadata": {
    "collapsed": false
   },
   "outputs": [],
   "source": [
    "-- TODO add shared conv1 layer to L1Net and L2Net\n",
    "L1Net:add(conv1)\n",
    "L2Net:add(conv1)\n",
    "-- TODO add ResBlock to L1Net and L2Net\n",
    "L1Net:add(createResBlock())\n",
    "L2Net:add(createResBlock())\n",
    "-- TODO add shared conv4 layer to L1Net and L2Net\n",
    "L1Net:add(conv4)\n",
    "L2Net:add(conv4)\n",
    "-- TODO add L1Net and L2Net to model\n",
    "model:add(L1Net)\n",
    "model:add(L2Net)"
   ]
  },
  {
   "cell_type": "code",
   "execution_count": 5,
   "metadata": {
    "collapsed": false,
    "scrolled": true
   },
   "outputs": [
    {
     "data": {
      "text/plain": [
       "  1\n",
       " 32\n",
       " 64\n",
       " 64\n",
       "[torch.LongStorage of size 4]\n",
       "\n"
      ]
     },
     "execution_count": 5,
     "metadata": {},
     "output_type": "execute_result"
    }
   ],
   "source": [
    "input1=torch.rand(1,3,64,64)\n",
    "--print(input1)\n",
    "conv1 = nn.Sequential()\n",
    "conv1:add(nn.SpatialConvolution(3, 32, 3, 3,1,1,1,1))\n",
    "conv1:forward(input1)\n",
    "print(conv1.output:size())"
   ]
  },
  {
   "cell_type": "code",
   "execution_count": 57,
   "metadata": {
    "collapsed": false
   },
   "outputs": [
    {
     "data": {
      "text/plain": [
       "nn.Sequential {\n",
       "  [input -> (1) -> (2) -> output]\n",
       "  (1): nn.ParallelTable {\n",
       "    input\n",
       "      |`-> (1): nn.Identity\n",
       "       `-> (2): nn.Sequential {\n",
       "             [input -> (1) -> (2) -> (3) -> output]\n",
       "             (1): nn.SpatialConvolution(32 -> 32, 3x3, 1,1, 1,1)\n",
       "             (2): nn.ReLU\n",
       "             (3): nn.SpatialConvolution(32 -> 32, 3x3, 1,1, 1,1)\n",
       "           }\n",
       "       ... -> output\n",
       "  }\n",
       "  (2): nn.CAddTable\n",
       "}\n",
       "{\n",
       "  gradInput : table: 0x40ff8c70\n",
       "  modules : \n",
       "    {\n",
       "      1 : \n",
       "        nn.ParallelTable {\n",
       "          input\n",
       "            |`-> (1): nn.Identity\n",
       "             `-> (2): nn.Sequential {\n",
       "                   [input -> (1) -> (2) -> (3) -> output]\n",
       "                   (1): nn.SpatialConvolution(32 -> 32, 3x3, 1,1, 1,1)\n",
       "                   (2): nn.ReLU\n",
       "                   (3): nn.SpatialConvolution(32 -> 32, 3x3, 1,1, 1,1)\n",
       "                 }\n",
       "             ... -> output\n",
       "        }\n",
       "        {\n",
       "          gradInput : table: 0x40ff8c70\n",
       "          modules : \n",
       "            {\n",
       "              1 : \n",
       "                nn.Identity\n",
       "                {\n",
       "                  gradInput : DoubleTensor - empty\n",
       "                  _type : torch.DoubleTensor\n",
       "                  output : DoubleTensor - empty\n",
       "                }\n",
       "              2 : \n",
       "                nn.Sequential {\n",
       "                  [input -> (1) -> (2) -> (3) -> output]\n",
       "                  (1): nn.SpatialConvolution(32 -> 32, 3x3, 1,1, 1,1)\n",
       "                  (2): nn.ReLU\n",
       "                  (3): nn.SpatialConvolution(32 -> 32, 3x3, 1,1, 1,1)\n",
       "                }\n",
       "                {\n",
       "                  gradInput : DoubleTensor - empty\n",
       "                  modules : table: 0x406bdbc8\n",
       "                  _type : torch.DoubleTensor\n",
       "                  output : DoubleTensor - empty\n",
       "                }\n",
       "            }\n",
       "          _type : torch.DoubleTensor\n",
       "          output : table: 0x40f31588\n",
       "        }\n",
       "      2 : \n",
       "        nn.CAddTable\n",
       "        {\n",
       "          gradInput : table: 0x411b30f0\n",
       "          inplace : true\n",
       "          _type : torch.DoubleTensor\n",
       "          output : DoubleTensor - empty\n",
       "        }\n",
       "    }\n",
       "  _type : torch.DoubleTensor\n",
       "  output : DoubleTensor - empty\n",
       "}\n"
      ]
     },
     "execution_count": 57,
     "metadata": {},
     "output_type": "execute_result"
    }
   ],
   "source": [
    "input=torch.rand(1,32,64,64):double()\n",
    "\n",
    "inputDouble = input:double()\n",
    "cat = nn.Sequential()\n",
    "cat:add(nn.SpatialConvolution(32, 32, 3, 3,1,1,1,1))\n",
    "cat:add(nn.ReLU(true))\n",
    "cat:add(nn.SpatialConvolution(32, 32, 3, 3,1,1,1,1))\n",
    "resBlock = nn.Sequential()\n",
    "resBlock:add(nn.ParallelTable():add(nn.Identity()):add(cat))\n",
    "resBlock:add(nn.CAddTable(true))\n",
    "--resBlock:forward(inputDouble)\n",
    "print(resBlock)"
   ]
  },
  {
   "cell_type": "code",
   "execution_count": 31,
   "metadata": {
    "collapsed": false
   },
   "outputs": [
    {
     "ename": "[string \"input=torch.rand(1,32,64,64)...\"]:20: nngraph.Node has no call operator\nstack traceback:\n\t[C]: in function 'test'\n\t[string \"input=torch.rand(1,32,64,64)...\"]:20: in main chunk\n\t[C]: in function 'xpcall'\n\t/home/lbai/torch/install/share/lua/5.1/itorch/main.lua:210: in function </home/lbai/torch/install/share/lua/5.1/itorch/main.lua:174>\n\t/home/lbai/torch/install/share/lua/5.1/lzmq/poller.lua:75: in function 'poll'\n\t/home/lbai/torch/install/share/lua/5.1/lzmq/impl/loop.lua:307: in function 'poll'\n\t/home/lbai/torch/install/share/lua/5.1/lzmq/impl/loop.lua:325: in function 'sleep_ex'\n\t/home/lbai/torch/install/share/lua/5.1/lzmq/impl/loop.lua:370: in function 'start'\n\t/home/lbai/torch/install/share/lua/5.1/itorch/main.lua:389: in main chunk\n\t[C]: in function 'require'\n\t(command line):1: in main chunk\n\t[C]: at 0x00405d50",
     "evalue": "",
     "output_type": "error",
     "traceback": [
      "[string \"input=torch.rand(1,32,64,64)...\"]:20: nngraph.Node has no call operator\nstack traceback:\n\t[C]: in function 'test'\n\t[string \"input=torch.rand(1,32,64,64)...\"]:20: in main chunk\n\t[C]: in function 'xpcall'\n\t/home/lbai/torch/install/share/lua/5.1/itorch/main.lua:210: in function </home/lbai/torch/install/share/lua/5.1/itorch/main.lua:174>\n\t/home/lbai/torch/install/share/lua/5.1/lzmq/poller.lua:75: in function 'poll'\n\t/home/lbai/torch/install/share/lua/5.1/lzmq/impl/loop.lua:307: in function 'poll'\n\t/home/lbai/torch/install/share/lua/5.1/lzmq/impl/loop.lua:325: in function 'sleep_ex'\n\t/home/lbai/torch/install/share/lua/5.1/lzmq/impl/loop.lua:370: in function 'start'\n\t/home/lbai/torch/install/share/lua/5.1/itorch/main.lua:389: in main chunk\n\t[C]: in function 'require'\n\t(command line):1: in main chunk\n\t[C]: at 0x00405d50"
     ]
    }
   ],
   "source": [
    "\n",
    "\n",
    "function createResBlock(input)\n",
    "    -- local resBlock = nn.Sequential()\n",
    "    -- TODO implement resblock in this function\n",
    "    -- do not implement this separately\n",
    "    cat = nn.Sequential()\n",
    "    cat:add(nn.SpatialConvolution(32, 32, 3, 3,1,1,1,1))\n",
    "    cat:add(nn.ReLU(true))\n",
    "    cat:add(nn.SpatialConvolution(32, 32, 3, 3,1,1,1,1))\n",
    "    -- print(cat)\n",
    "    cat:forward(input:double())\n",
    "    --resBlock= nn.CAddTable()({cat.output, input})\n",
    "    resBlock = cat.output + input:double()\n",
    "    return resBlock\n",
    "end\n",
    "resBlock = createResBlock(input)\n",
    "\n",
    "\n",
    "\n",
    "test = nn.Identity()()\n",
    "test(input)\n",
    "print(test)\n",
    "\n",
    "--[[\n",
    "cat = nn.Sequential()\n",
    "cat:add(nn.SpatialConvolution(32, 32, 3, 3,1,1,1,1))\n",
    "cat:add(nn.ReLU(true))\n",
    "cat:add(nn.SpatialConvolution(32, 32, 3, 3,1,1,1,1))\n",
    "-- print(cat)\n",
    "--cat:forward(input:double())\n",
    "--resBlock= nn.CAddTable()({cat.output, input})\n",
    "resBlock = nn.CAddTable()\n",
    "print(resBlock)\n",
    "--resBlock:forward(input)\n",
    "--]]"
   ]
  },
  {
   "cell_type": "code",
   "execution_count": 21,
   "metadata": {
    "collapsed": false
   },
   "outputs": [
    {
     "data": {
      "text/plain": [
       "  1\n",
       "  3\n",
       " 64\n",
       " 64\n",
       "[torch.LongStorage of size 4]\n",
       "\n"
      ]
     },
     "execution_count": 21,
     "metadata": {},
     "output_type": "execute_result"
    }
   ],
   "source": [
    "input1=torch.rand(1,3,64,64)\n",
    "input2=torch.rand(1,3,64,64)\n",
    "input3=input1+input2\n",
    "print(input3:size())"
   ]
  },
  {
   "cell_type": "code",
   "execution_count": null,
   "metadata": {
    "collapsed": true
   },
   "outputs": [],
   "source": []
  }
 ],
 "metadata": {
  "kernelspec": {
   "display_name": "iTorch",
   "language": "lua",
   "name": "itorch"
  },
  "language_info": {
   "name": "lua",
   "version": "5.1"
  }
 },
 "nbformat": 4,
 "nbformat_minor": 2
}
