{
 "cells": [
  {
   "cell_type": "code",
   "execution_count": 2,
   "metadata": {
    "collapsed": false
   },
   "outputs": [],
   "source": [
    "require 'hdf5'\n",
    "require 'nn'\n",
    "require 'torch'"
   ]
  },
  {
   "cell_type": "code",
   "execution_count": 3,
   "metadata": {
    "collapsed": true
   },
   "outputs": [],
   "source": [
    "train_file = hdf5.open('train.h5', 'r')\n",
    "train_data = train_file:read('data')\n",
    "train_feats = train_data:all()\n",
    "train_labels = train_file:read('label')\n",
    "train_labels = train_labels:all()\n",
    "n = train_feats:size(1)\n",
    "p = train_feats:size(4)\n",
    "train_feats = torch.reshape(train_feats, n,p)"
   ]
  },
  {
   "cell_type": "code",
   "execution_count": 4,
   "metadata": {
    "collapsed": false
   },
   "outputs": [
    {
     "data": {
      "text/plain": [
       "4000\t\n",
       "4096\t\n"
      ]
     },
     "execution_count": 4,
     "metadata": {},
     "output_type": "execute_result"
    }
   ],
   "source": [
    "print(n)\n",
    "print(p)"
   ]
  },
  {
   "cell_type": "code",
   "execution_count": 5,
   "metadata": {
    "collapsed": true
   },
   "outputs": [],
   "source": [
    "test_file = hdf5.open('test.h5', 'r')\n",
    "test_data = test_file:read('data')\n",
    "test_feats = test_data:all()\n",
    "test_labels = test_file:read('label')\n",
    "test_labels = test_labels:all()\n",
    "n = test_feats:size(1)\n",
    "p = test_feats:size(4)\n",
    "test_feats = torch.reshape(test_feats, n,p)"
   ]
  },
  {
   "cell_type": "code",
   "execution_count": 6,
   "metadata": {
    "collapsed": false
   },
   "outputs": [
    {
     "data": {
      "text/plain": [
       "4000\t\n",
       "4096\t\n",
       " 4000\n",
       " 4096\n",
       "[torch.LongStorage of size 2]\n",
       "\n",
       " 4000\n",
       "    1\n",
       "[torch.LongStorage of size 2]\n",
       "\n"
      ]
     },
     "execution_count": 6,
     "metadata": {},
     "output_type": "execute_result"
    }
   ],
   "source": [
    "print(n)\n",
    "print(p)\n",
    "print(test_feats:size())\n",
    "print(test_labels:size())"
   ]
  },
  {
   "cell_type": "code",
   "execution_count": 7,
   "metadata": {
    "collapsed": false
   },
   "outputs": [
    {
     "data": {
      "text/plain": [
       "data is loaded successfully!\t\n"
      ]
     },
     "execution_count": 7,
     "metadata": {},
     "output_type": "execute_result"
    }
   ],
   "source": [
    "print('data is loaded successfully!')"
   ]
  },
  {
   "cell_type": "code",
   "execution_count": 8,
   "metadata": {
    "collapsed": false
   },
   "outputs": [
    {
     "data": {
      "text/plain": [
       " 4096\n",
       "[torch.LongStorage of size 1]\n",
       "\n",
       " 1\n",
       " 1\n",
       " 1\n",
       " 1\n",
       " 1\n",
       "[torch.DoubleTensor of size 5]\n",
       "\n"
      ]
     },
     "execution_count": 8,
     "metadata": {},
     "output_type": "execute_result"
    }
   ],
   "source": [
    "test_feats_1 = test_feats[1]\n",
    "print(test_feats_1:size())\n",
    "ii = torch.ones(5)\n",
    "print(ii)"
   ]
  },
  {
   "cell_type": "code",
   "execution_count": 13,
   "metadata": {
    "collapsed": false
   },
   "outputs": [
    {
     "data": {
      "text/plain": [
       " 4096\n",
       "    1\n",
       "[torch.LongStorage of size 2]\n",
       "\n",
       " 4000\n",
       "[torch.LongStorage of size 1]\n",
       "\n"
      ]
     },
     "execution_count": 13,
     "metadata": {},
     "output_type": "execute_result"
    }
   ],
   "source": [
    "theta = torch.FloatTensor(p,1):fill(0)\n",
    "thetaX = test_feats * theta\n",
    "print(theta:size())\n",
    "print(thetaX:view(4000):size())"
   ]
  },
  {
   "cell_type": "code",
   "execution_count": 22,
   "metadata": {
    "collapsed": true
   },
   "outputs": [],
   "source": [
    "theta = torch.FloatTensor(p,1):fill(0)"
   ]
  },
  {
   "cell_type": "code",
   "execution_count": 26,
   "metadata": {
    "collapsed": false
   },
   "outputs": [],
   "source": [
    "model = nn.Sequential()\n",
    "model:add(nn.Linear(p,1))\n",
    "model:add(nn.Sigmoid())"
   ]
  },
  {
   "cell_type": "code",
   "execution_count": 25,
   "metadata": {
    "collapsed": false
   },
   "outputs": [
    {
     "ename": "/home/lbai/torch/install/share/lua/5.1/nn/Container.lua:67: \nIn 1 module of nn.Sequential:\n/home/lbai/torch/install/share/lua/5.1/nn/Linear.lua:57: invalid arguments: DoubleTensor number DoubleTensor FloatTensor \nexpected arguments: *DoubleTensor~1D* [DoubleTensor~1D] [double] DoubleTensor~2D DoubleTensor~1D | *DoubleTensor~1D* double [DoubleTensor~1D] double DoubleTensor~2D DoubleTensor~1D\nstack traceback:\n\t[C]: in function 'addmv'\n\t/home/lbai/torch/install/share/lua/5.1/nn/Linear.lua:57: in function </home/lbai/torch/install/share/lua/5.1/nn/Linear.lua:53>\n\t[C]: in function 'xpcall'\n\t/home/lbai/torch/install/share/lua/5.1/nn/Container.lua:63: in function 'rethrowErrors'\n\t/home/lbai/torch/install/share/lua/5.1/nn/Sequential.lua:44: in function 'forward'\n\t[string \"y_hat = mlp:forward(theta:view(4096))...\"]:1: in main chunk\n\t[C]: in function 'xpcall'\n\t/home/lbai/torch/install/share/lua/5.1/itorch/main.lua:210: in function </home/lbai/torch/install/share/lua/5.1/itorch/main.lua:174>\n\t/home/lbai/torch/install/share/lua/5.1/lzmq/poller.lua:75: in function 'poll'\n\t/home/lbai/torch/install/share/lua/5.1/lzmq/impl/loop.lua:307: in function 'poll'\n\t/home/lbai/torch/install/share/lua/5.1/lzmq/impl/loop.lua:325: in function 'sleep_ex'\n\t/home/lbai/torch/install/share/lua/5.1/lzmq/impl/loop.lua:370: in function 'start'\n\t/home/lbai/torch/install/share/lua/5.1/itorch/main.lua:389: in main chunk\n\t[C]: in function 'require'\n\t(command line):1: in main chunk\n\t[C]: at 0x00405d50\n\nWARNING: If you see a stack trace below, it doesn't point to the place where this error occurred. Please use only the one above.\nstack traceback:\n\t[C]: in function 'error'\n\t/home/lbai/torch/install/share/lua/5.1/nn/Container.lua:67: in function 'rethrowErrors'\n\t/home/lbai/torch/install/share/lua/5.1/nn/Sequential.lua:44: in function 'forward'\n\t[string \"y_hat = mlp:forward(theta:view(4096))...\"]:1: in main chunk\n\t[C]: in function 'xpcall'\n\t/home/lbai/torch/install/share/lua/5.1/itorch/main.lua:210: in function </home/lbai/torch/install/share/lua/5.1/itorch/main.lua:174>\n\t/home/lbai/torch/install/share/lua/5.1/lzmq/poller.lua:75: in function 'poll'\n\t/home/lbai/torch/install/share/lua/5.1/lzmq/impl/loop.lua:307: in function 'poll'\n\t/home/lbai/torch/install/share/lua/5.1/lzmq/impl/loop.lua:325: in function 'sleep_ex'\n\t/home/lbai/torch/install/share/lua/5.1/lzmq/impl/loop.lua:370: in function 'start'\n\t/home/lbai/torch/install/share/lua/5.1/itorch/main.lua:389: in main chunk\n\t[C]: in function 'require'\n\t(command line):1: in main chunk\n\t[C]: at 0x00405d50",
     "evalue": "",
     "output_type": "error",
     "traceback": [
      "/home/lbai/torch/install/share/lua/5.1/nn/Container.lua:67: \nIn 1 module of nn.Sequential:\n/home/lbai/torch/install/share/lua/5.1/nn/Linear.lua:57: invalid arguments: DoubleTensor number DoubleTensor FloatTensor \nexpected arguments: *DoubleTensor~1D* [DoubleTensor~1D] [double] DoubleTensor~2D DoubleTensor~1D | *DoubleTensor~1D* double [DoubleTensor~1D] double DoubleTensor~2D DoubleTensor~1D\nstack traceback:\n\t[C]: in function 'addmv'\n\t/home/lbai/torch/install/share/lua/5.1/nn/Linear.lua:57: in function </home/lbai/torch/install/share/lua/5.1/nn/Linear.lua:53>\n\t[C]: in function 'xpcall'\n\t/home/lbai/torch/install/share/lua/5.1/nn/Container.lua:63: in function 'rethrowErrors'\n\t/home/lbai/torch/install/share/lua/5.1/nn/Sequential.lua:44: in function 'forward'\n\t[string \"y_hat = mlp:forward(theta:view(4096))...\"]:1: in main chunk\n\t[C]: in function 'xpcall'\n\t/home/lbai/torch/install/share/lua/5.1/itorch/main.lua:210: in function </home/lbai/torch/install/share/lua/5.1/itorch/main.lua:174>\n\t/home/lbai/torch/install/share/lua/5.1/lzmq/poller.lua:75: in function 'poll'\n\t/home/lbai/torch/install/share/lua/5.1/lzmq/impl/loop.lua:307: in function 'poll'\n\t/home/lbai/torch/install/share/lua/5.1/lzmq/impl/loop.lua:325: in function 'sleep_ex'\n\t/home/lbai/torch/install/share/lua/5.1/lzmq/impl/loop.lua:370: in function 'start'\n\t/home/lbai/torch/install/share/lua/5.1/itorch/main.lua:389: in main chunk\n\t[C]: in function 'require'\n\t(command line):1: in main chunk\n\t[C]: at 0x00405d50\n\nWARNING: If you see a stack trace below, it doesn't point to the place where this error occurred. Please use only the one above.\nstack traceback:\n\t[C]: in function 'error'\n\t/home/lbai/torch/install/share/lua/5.1/nn/Container.lua:67: in function 'rethrowErrors'\n\t/home/lbai/torch/install/share/lua/5.1/nn/Sequential.lua:44: in function 'forward'\n\t[string \"y_hat = mlp:forward(theta:view(4096))...\"]:1: in main chunk\n\t[C]: in function 'xpcall'\n\t/home/lbai/torch/install/share/lua/5.1/itorch/main.lua:210: in function </home/lbai/torch/install/share/lua/5.1/itorch/main.lua:174>\n\t/home/lbai/torch/install/share/lua/5.1/lzmq/poller.lua:75: in function 'poll'\n\t/home/lbai/torch/install/share/lua/5.1/lzmq/impl/loop.lua:307: in function 'poll'\n\t/home/lbai/torch/install/share/lua/5.1/lzmq/impl/loop.lua:325: in function 'sleep_ex'\n\t/home/lbai/torch/install/share/lua/5.1/lzmq/impl/loop.lua:370: in function 'start'\n\t/home/lbai/torch/install/share/lua/5.1/itorch/main.lua:389: in main chunk\n\t[C]: in function 'require'\n\t(command line):1: in main chunk\n\t[C]: at 0x00405d50"
     ]
    }
   ],
   "source": [
    "y_hat = model:forward(theta:view(4096))"
   ]
  },
  {
   "cell_type": "code",
   "execution_count": 49,
   "metadata": {
    "collapsed": false
   },
   "outputs": [
    {
     "ename": "/home/lbai/torch/install/share/lua/5.1/nn/THNN.lua:110: bad argument #3 to 'v' (cannot convert 'struct THDoubleTensor *' to 'struct THFloatTensor *')\nstack traceback:\n\t[C]: in function 'v'\n\t/home/lbai/torch/install/share/lua/5.1/nn/THNN.lua:110: in function 'Sigmoid_updateOutput'\n\t/home/lbai/torch/install/share/lua/5.1/nn/Sigmoid.lua:4: in function 'forward'\n\t[string \"model = nn.Sigmoid()...\"]:2: in main chunk\n\t[C]: in function 'xpcall'\n\t/home/lbai/torch/install/share/lua/5.1/itorch/main.lua:210: in function </home/lbai/torch/install/share/lua/5.1/itorch/main.lua:174>\n\t/home/lbai/torch/install/share/lua/5.1/lzmq/poller.lua:75: in function 'poll'\n\t/home/lbai/torch/install/share/lua/5.1/lzmq/impl/loop.lua:307: in function 'poll'\n\t/home/lbai/torch/install/share/lua/5.1/lzmq/impl/loop.lua:325: in function 'sleep_ex'\n\t/home/lbai/torch/install/share/lua/5.1/lzmq/impl/loop.lua:370: in function 'start'\n\t/home/lbai/torch/install/share/lua/5.1/itorch/main.lua:389: in main chunk\n\t[C]: in function 'require'\n\t(command line):1: in main chunk\n\t[C]: at 0x00405d50",
     "evalue": "",
     "output_type": "error",
     "traceback": [
      "/home/lbai/torch/install/share/lua/5.1/nn/THNN.lua:110: bad argument #3 to 'v' (cannot convert 'struct THDoubleTensor *' to 'struct THFloatTensor *')\nstack traceback:\n\t[C]: in function 'v'\n\t/home/lbai/torch/install/share/lua/5.1/nn/THNN.lua:110: in function 'Sigmoid_updateOutput'\n\t/home/lbai/torch/install/share/lua/5.1/nn/Sigmoid.lua:4: in function 'forward'\n\t[string \"model = nn.Sigmoid()...\"]:2: in main chunk\n\t[C]: in function 'xpcall'\n\t/home/lbai/torch/install/share/lua/5.1/itorch/main.lua:210: in function </home/lbai/torch/install/share/lua/5.1/itorch/main.lua:174>\n\t/home/lbai/torch/install/share/lua/5.1/lzmq/poller.lua:75: in function 'poll'\n\t/home/lbai/torch/install/share/lua/5.1/lzmq/impl/loop.lua:307: in function 'poll'\n\t/home/lbai/torch/install/share/lua/5.1/lzmq/impl/loop.lua:325: in function 'sleep_ex'\n\t/home/lbai/torch/install/share/lua/5.1/lzmq/impl/loop.lua:370: in function 'start'\n\t/home/lbai/torch/install/share/lua/5.1/itorch/main.lua:389: in main chunk\n\t[C]: in function 'require'\n\t(command line):1: in main chunk\n\t[C]: at 0x00405d50"
     ]
    }
   ],
   "source": [
    "criterion = nn.MSECriterion()"
   ]
  },
  {
   "cell_type": "code",
   "execution_count": null,
   "metadata": {
    "collapsed": true
   },
   "outputs": [],
   "source": [
    "-- max likelihood function\n",
    "l_theta = test_labels(i)*log(y_hat(i))-(1-y)log(1-y_hat)"
   ]
  }
 ],
 "metadata": {
  "kernelspec": {
   "display_name": "iTorch",
   "language": "lua",
   "name": "itorch"
  },
  "language_info": {
   "name": "lua",
   "version": "5.1"
  }
 },
 "nbformat": 4,
 "nbformat_minor": 2
}
